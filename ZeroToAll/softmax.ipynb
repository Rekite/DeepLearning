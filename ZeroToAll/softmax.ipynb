{
 "cells": [
  {
   "cell_type": "markdown",
   "metadata": {},
   "source": [
    "## softmax regression\n",
    "    - 3개 이상의 분류 문제에서 각각의 예측값들의 합을 1(확률값)으로 만들어주는 공식\n",
    "        - ex) [2, 1, 0.1] > [0.7, 0.2, 0.1]\n",
    "    - tf.nn.softmax(tf.matmul(x,w)+b)\n",
    "## cost function(cross entropy)\n",
    "    - logistic의 cost와 동일\n",
    "    - 실제값(1) - softmax로 계산된 예측값\n",
    "    - sum(정답 * -log(예측값))"
   ]
  },
  {
   "cell_type": "code",
   "execution_count": 1,
   "metadata": {},
   "outputs": [
    {
     "name": "stdout",
     "output_type": "stream",
     "text": [
      "WARNING:tensorflow:From C:\\Users\\prsto\\Anaconda3\\lib\\site-packages\\tensorflow_core\\python\\compat\\v2_compat.py:88: disable_resource_variables (from tensorflow.python.ops.variable_scope) is deprecated and will be removed in a future version.\n",
      "Instructions for updating:\n",
      "non-resource variables are not supported in the long term\n"
     ]
    }
   ],
   "source": [
    "import tensorflow.compat.v1 as tf\n",
    "tf.disable_v2_behavior()"
   ]
  },
  {
   "cell_type": "code",
   "execution_count": 2,
   "metadata": {},
   "outputs": [],
   "source": [
    "x_data = [[1,2,1,1],[2,1,3,2],[3,1,3,4],[4,1,5,5],[1,7,5,5],[1,2,5,6],[1,6,6,6,],[1,7,7,7]]\n",
    "y_data = [[0,0,1],[0,0,1],[0,0,1],[0,1,0],[0,1,0],[0,1,0],[1,0,0],[1,0,0]]"
   ]
  },
  {
   "cell_type": "code",
   "execution_count": 3,
   "metadata": {},
   "outputs": [],
   "source": [
    "x = tf.placeholder('float', [None, 4])\n",
    "y = tf.placeholder('float', [None, 3])"
   ]
  },
  {
   "cell_type": "code",
   "execution_count": 4,
   "metadata": {},
   "outputs": [],
   "source": [
    "nb_classes = 3\n",
    "w = tf.Variable(tf.random_normal([4,nb_classes]), name='weight')\n",
    "b = tf.Variable(tf.random_normal([nb_classes]), name='bias')"
   ]
  },
  {
   "cell_type": "code",
   "execution_count": 5,
   "metadata": {},
   "outputs": [],
   "source": [
    "logits = tf.matmul(x,w)+b\n",
    "hypothesis = tf.nn.softmax(logits)\n",
    "cost = tf.reduce_mean(-tf.reduce_sum(y*tf.log(hypothesis), axis=1))\n",
    "optimizer = tf.train.GradientDescentOptimizer(learning_rate=0.1).minimize(cost)"
   ]
  },
  {
   "cell_type": "markdown",
   "metadata": {},
   "source": [
    "# softmax_cross_entropy_with_logits\n",
    "    - logits = tf.matmul(x,m)+b\n",
    "    - cost_i = tf.nn.softmax_cross_entropy_with_logits(logits=logits, labels=y)\n",
    "    - cost = tf.reduce_mean(cost_i)"
   ]
  },
  {
   "cell_type": "code",
   "execution_count": 6,
   "metadata": {},
   "outputs": [
    {
     "name": "stdout",
     "output_type": "stream",
     "text": [
      "0 3.5844862\n",
      "200 0.610288\n",
      "400 0.49176785\n",
      "600 0.3948475\n",
      "800 0.30236065\n",
      "1000 0.24074978\n",
      "1200 0.21773481\n",
      "1400 0.19865927\n",
      "1600 0.18256785\n",
      "1800 0.16881144\n",
      "2000 0.15692061\n",
      "[[9.9015431e-03 9.9008930e-01 9.1330912e-06]\n",
      " [8.0412364e-01 1.7916936e-01 1.6707016e-02]] [1 0]\n"
     ]
    }
   ],
   "source": [
    "with tf.Session() as sess :\n",
    "    sess.run(tf.global_variables_initializer())\n",
    "    \n",
    "    for step in range(2001):\n",
    "        sess.run(optimizer, feed_dict={x:x_data, y:y_data})\n",
    "        if step % 200 == 0:\n",
    "            print(step, sess.run(cost, feed_dict={x:x_data, y:y_data}))\n",
    "    \n",
    "    a = sess.run(hypothesis, feed_dict = {x:[[1,11,7,9],[1,3,4,3]]})\n",
    "    print(a, sess.run(tf.arg_max(a,1)))\n",
    "    # arg_max : 확률으로 나온 소프트 맥스 값을 레이블으로 반환, axis=1 : 행 단위 계산"
   ]
  },
  {
   "cell_type": "markdown",
   "metadata": {},
   "source": [
    "# one-hot-encoding\n",
    "    - tf.one_hot(y,n) # y: 대상, n:분할 갯수\n",
    "# reshape\n",
    "    - one-hot-encoding시 발생하는 차원 증가(1증가) 문제 해결\n",
    "    - tf.reshape(y_one_hot,[-1,n]) # shape=(-1,n) -1은 전부를 의미"
   ]
  }
 ],
 "metadata": {
  "kernelspec": {
   "display_name": "Python 3",
   "language": "python",
   "name": "python3"
  },
  "language_info": {
   "codemirror_mode": {
    "name": "ipython",
    "version": 3
   },
   "file_extension": ".py",
   "mimetype": "text/x-python",
   "name": "python",
   "nbconvert_exporter": "python",
   "pygments_lexer": "ipython3",
   "version": "3.7.4"
  }
 },
 "nbformat": 4,
 "nbformat_minor": 2
}
