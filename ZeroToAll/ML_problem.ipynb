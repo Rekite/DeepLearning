{
 "cells": [
  {
   "cell_type": "markdown",
   "metadata": {},
   "source": [
    "# Learning rate\n",
    "    - overshooting : lr의 값이 커서 튀어 나가는 경우\n",
    "    - stops at local minimum : lr이 작으면 지역해에 빠질 수 있음\n",
    "    - 0.01부터 시작 권장"
   ]
  },
  {
   "cell_type": "markdown",
   "metadata": {},
   "source": [
    "# Preprocessing\n",
    "    - scaling\n",
    "      ex) standardization\n",
    "          : x_std[:,0] = (x[:,0] - x[:,0].mean()) / s[:,0].std()"
   ]
  },
  {
   "cell_type": "markdown",
   "metadata": {},
   "source": [
    "# Overfitting\n",
    "    - more training data\n",
    "    - reduce the number of features\n",
    "    - regularization\n",
    "&nbsp;&nbsp;&nbsp;&nbsp;&nbsp;&nbsp;&nbsp;&nbsp;&nbsp;&nbsp;&nbsp;&nbsp;&nbsp;$\\frac 1 n\\sum_{i}D(S(wx_{i}+b)L_{i})$+&#955;$\\sum w^2$, &#955; : regularization strength"
   ]
  },
  {
   "cell_type": "markdown",
   "metadata": {},
   "source": [
    "# Online learning\n",
    "    - 학습 데이터를 1/n으로 분할하여 학습"
   ]
  }
 ],
 "metadata": {
  "kernelspec": {
   "display_name": "Python 3",
   "language": "python",
   "name": "python3"
  },
  "language_info": {
   "codemirror_mode": {
    "name": "ipython",
    "version": 3
   },
   "file_extension": ".py",
   "mimetype": "text/x-python",
   "name": "python",
   "nbconvert_exporter": "python",
   "pygments_lexer": "ipython3",
   "version": "3.7.4"
  }
 },
 "nbformat": 4,
 "nbformat_minor": 2
}
